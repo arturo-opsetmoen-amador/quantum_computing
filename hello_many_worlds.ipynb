{
 "cells": [
  {
   "cell_type": "code",
   "execution_count": 1,
   "metadata": {
    "collapsed": true
   },
   "outputs": [
    {
     "name": "stderr",
     "output_type": "stream",
     "text": [
      "findfont: Font family ['Arial'] not found. Falling back to DejaVu Sans.\n"
     ]
    },
    {
     "data": {
      "text/plain": "<cirq.contrib.svg.svg.SVGCircuit at 0x7f393c156a10>",
      "image/svg+xml": "<svg xmlns=\"http://www.w3.org/2000/svg\" width=\"234.4567578125\" height=\"100.0\"><line x1=\"34.7588671875\" x2=\"204.4567578125\" y1=\"25.0\" y2=\"25.0\" stroke=\"#1967d2\" stroke-width=\"1\" /><line x1=\"34.7588671875\" x2=\"204.4567578125\" y1=\"75.0\" y2=\"75.0\" stroke=\"#1967d2\" stroke-width=\"1\" /><line x1=\"164.4567578125\" x2=\"164.4567578125\" y1=\"25.0\" y2=\"75.0\" stroke=\"black\" stroke-width=\"3\" /><rect x=\"10.0\" y=\"5.0\" width=\"49.517734375\" height=\"40\" stroke=\"black\" fill=\"white\" stroke-width=\"0\" /><text x=\"34.7588671875\" y=\"25.0\" dominant-baseline=\"middle\" text-anchor=\"middle\" font-size=\"14px\">(0, 0): </text><rect x=\"10.0\" y=\"55.0\" width=\"49.517734375\" height=\"40\" stroke=\"black\" fill=\"white\" stroke-width=\"0\" /><text x=\"34.7588671875\" y=\"75.0\" dominant-baseline=\"middle\" text-anchor=\"middle\" font-size=\"14px\">(0, 1): </text><rect x=\"79.517734375\" y=\"5.0\" width=\"44.9390234375\" height=\"40\" stroke=\"black\" fill=\"white\" stroke-width=\"1\" /><text x=\"101.98724609375\" y=\"25.0\" dominant-baseline=\"middle\" text-anchor=\"middle\" font-size=\"14px\">Rx(a)</text><rect x=\"79.517734375\" y=\"55.0\" width=\"44.9390234375\" height=\"40\" stroke=\"black\" fill=\"white\" stroke-width=\"1\" /><text x=\"101.98724609375\" y=\"75.0\" dominant-baseline=\"middle\" text-anchor=\"middle\" font-size=\"14px\">Ry(b)</text><circle cx=\"164.4567578125\" cy=\"25.0\" r=\"10.0\" /><rect x=\"144.4567578125\" y=\"55.0\" width=\"40\" height=\"40\" stroke=\"black\" fill=\"white\" stroke-width=\"1\" /><text x=\"164.4567578125\" y=\"75.0\" dominant-baseline=\"middle\" text-anchor=\"middle\" font-size=\"18px\">X</text></svg>"
     },
     "execution_count": 1,
     "metadata": {},
     "output_type": "execute_result"
    }
   ],
   "source": [
    "import tensorflow as tf\n",
    "import tensorflow_quantum as tfq\n",
    "\n",
    "import cirq\n",
    "import sympy\n",
    "import numpy as np\n",
    "\n",
    "# visualization tools\n",
    "%matplotlib inline\n",
    "import matplotlib.pyplot as plt\n",
    "from cirq.contrib.svg import SVGCircuit\n",
    "\n",
    "a, b = sympy.symbols('a b')\n",
    "\n",
    "# Create two qubits\n",
    "\n",
    "q0, q1 = cirq.GridQubit.rect(1, 2)\n",
    "\n",
    "# Create a circuit on these qubits using the parameters created above.\n",
    "\n",
    "circuit = cirq.Circuit(\n",
    "    cirq.rx(a).on(q0),\n",
    "    cirq.ry(b).on(q1), cirq.CNOT(control = q0, target = q1)\n",
    ")\n",
    "\n",
    "SVGCircuit(circuit)\n",
    "\n"
   ]
  },
  {
   "cell_type": "code",
   "execution_count": 2,
   "outputs": [
    {
     "data": {
      "text/plain": "cirq.WaveFunctionSimulatorState(state_vector=np.array([ 0.9387913 +0.j        , -0.23971277+0.j        ,\n        0.        +0.06120872j,  0.        -0.23971277j], dtype=complex64), qubit_map={cirq.GridQubit(0, 0): 0, cirq.GridQubit(0, 1): 1})"
     },
     "execution_count": 2,
     "metadata": {},
     "output_type": "execute_result"
    }
   ],
   "source": [
    "resolver = cirq.ParamResolver({a: 0.5, b:-0.5})\n",
    "output_state_vector=cirq.Simulator().simulate(circuit, resolver)._final_simulator_state\n",
    "output_state_vector\n"
   ],
   "metadata": {
    "collapsed": false,
    "pycharm": {
     "name": "#%%\n"
    }
   }
  },
  {
   "cell_type": "code",
   "execution_count": null,
   "outputs": [],
   "source": [
    "\n"
   ],
   "metadata": {
    "collapsed": false,
    "pycharm": {
     "name": "#%%\n"
    }
   }
  }
 ],
 "metadata": {
  "kernelspec": {
   "display_name": "Python 3",
   "language": "python",
   "name": "python3"
  },
  "language_info": {
   "codemirror_mode": {
    "name": "ipython",
    "version": 2
   },
   "file_extension": ".py",
   "mimetype": "text/x-python",
   "name": "python",
   "nbconvert_exporter": "python",
   "pygments_lexer": "ipython2",
   "version": "2.7.6"
  }
 },
 "nbformat": 4,
 "nbformat_minor": 0
}